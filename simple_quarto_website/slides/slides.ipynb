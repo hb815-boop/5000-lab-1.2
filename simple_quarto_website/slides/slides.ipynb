{
 "cells": [
  {
   "cell_type": "markdown",
   "id": "33819f9a",
   "metadata": {},
   "source": [
    "---\n",
    "title: \"Title slide\"\n",
    "author: \"Haleigh Brown\"\n",
    "format: \n",
    "    revealjs:\n",
    "        embed-resources: true\n",
    "        code-fold: true\n",
    "        code: false\n",
    "execute:\n",
    "    enabled: ture\n",
    "jupyter: python3\n",
    "bibliography: ../reference.bib\n",
    "---\n",
    "## This is the first slide\n",
    "- This is a bullet point\n",
    "![bridge in nature](images/nature_path.jpg)\n",
    "\n",
    "## This is the second slide\n",
    "- A bullet point [@pakkir2025statistical]\n",
    "![mountain with view](images/viewmountain.jpg)"
   ]
  },
  {
   "cell_type": "code",
   "execution_count": null,
   "id": "9160aa59",
   "metadata": {
    "slideshow": {
     "slide_type": "slide"
    }
   },
   "outputs": [],
   "source": [
    "import matplotlib.pyplot as plt\n",
    "import numpy as np\n",
    "\n",
    "x = np.linspace(-200,200,200)\n",
    "y = 2 * x + 4\n",
    "\n",
    "a = np.linspace(-200,200,300)\n",
    "b = 6 * a + 9\n",
    "\n",
    "plt.plot(x, y, color = \"blue\")\n",
    "plt.plot(a, b, color = \"red\")\n",
    "plt.grid(True)\n",
    "plt.show()"
   ]
  },
  {
   "cell_type": "markdown",
   "id": "3507809d",
   "metadata": {},
   "source": [
    "## Jupyter Notebook\n",
    "- This is a Juypter notebook exercise\n",
    "- Slides were made during the exercise\n"
   ]
  }
 ],
 "metadata": {
  "language_info": {
   "name": "python"
  }
 },
 "nbformat": 4,
 "nbformat_minor": 5
}
